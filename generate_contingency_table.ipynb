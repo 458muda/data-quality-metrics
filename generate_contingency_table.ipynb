{
 "cells": [
  {
   "cell_type": "markdown",
   "id": "423acaab-1ee5-4de8-ba0b-51b0be9fecdd",
   "metadata": {},
   "source": [
    "## This notebook is to calculate metrics for data quality assessment of time interval maps."
   ]
  },
  {
   "cell_type": "markdown",
   "id": "5ae3fd75-61d2-4f3e-aad1-5a2526df113e",
   "metadata": {},
   "source": [
    "1. Importing necessary columns from Excel\n",
    "2. Declaring categories, strata, time intervals\n",
    "3. Creating a dictionary for unique combination of entries\n",
    "4. Converting the sample contingency table entries into a table for entire population using sampling intensity.\n",
    "5. Calculating Commission and Omission entries for each category for all time intervals\n",
    "6. Exporting the table as JSON"
   ]
  },
  {
   "cell_type": "code",
   "execution_count": null,
   "id": "19580e46-d472-49aa-b312-672b07ff2942",
   "metadata": {
    "tags": []
   },
   "outputs": [],
   "source": [
    "pip install openpyxl"
   ]
  },
  {
   "cell_type": "markdown",
   "id": "eded8e0c-b49c-420d-b7ad-efb6d1df2f7f",
   "metadata": {},
   "source": [
    "#### Import necessary python libraries"
   ]
  },
  {
   "cell_type": "code",
   "execution_count": null,
   "id": "c6963c82-2aa8-45c1-a2f0-928f26c60cd3",
   "metadata": {
    "tags": []
   },
   "outputs": [],
   "source": [
    "import pandas as pd\n",
    "from pprint import pprint\n",
    "import json"
   ]
  },
  {
   "cell_type": "markdown",
   "id": "17a302fe-a279-4eec-8881-f0c30e2b822d",
   "metadata": {},
   "source": [
    "#### Read PIE Error Excel data"
   ]
  },
  {
   "cell_type": "code",
   "execution_count": null,
   "id": "cab2e2ef-5a0f-4433-a865-7a052efde34b",
   "metadata": {
    "tags": []
   },
   "outputs": [],
   "source": [
    "file_path = './input_data/PIE_Error_Vishal_Edited.xlsx'  # Replace with your file path\n",
    "sheet_name = 'Data'  # Replace with the name of the sheet you want to read\n",
    "columns_names = ['Stratum', 'Interval', 'MapInterval', 'RefInterval'] # specific columns to read\n",
    "df = pd.read_excel(file_path, sheet_name=sheet_name, usecols= columns_names)"
   ]
  },
  {
   "cell_type": "code",
   "execution_count": null,
   "id": "2da4056e-333f-4780-bbb3-82c80582d9c2",
   "metadata": {
    "tags": []
   },
   "outputs": [],
   "source": [
    "df.head()"
   ]
  },
  {
   "cell_type": "markdown",
   "id": "5e799343-61f1-40d4-919c-fa8cd4b7741c",
   "metadata": {},
   "source": [
    "#### Unique values in columns used to create dictionary keys"
   ]
  },
  {
   "cell_type": "code",
   "execution_count": null,
   "id": "0170be08-bf0c-4bf3-9d92-b03fe8b7767d",
   "metadata": {
    "tags": []
   },
   "outputs": [],
   "source": [
    "intervals = ['2010-2012', '2012-2014', '2014-2016', '2016-2018', '2018-2021']\n",
    "categories = ['Stable Presence', 'Loss', 'Gain', 'Stable Absence']\n",
    "stratum = ['All Absence', 'Gain', 'Other', 'Loss', 'All Presence']"
   ]
  },
  {
   "cell_type": "code",
   "execution_count": null,
   "id": "d30e171e",
   "metadata": {},
   "outputs": [],
   "source": [
    "number_of_time_intervals = len(intervals)\n",
    "number_of_categories = len(categories)\n",
    "number_of_strata = len(stratum)"
   ]
  },
  {
   "cell_type": "markdown",
   "id": "4b23cf18-d501-4462-b3fe-fd227d835c2e",
   "metadata": {},
   "source": [
    "#### Creating a dictionary for unique combination of entries"
   ]
  },
  {
   "cell_type": "code",
   "execution_count": null,
   "id": "d29511e7-644c-4acd-b07d-76f2ca19aabf",
   "metadata": {
    "tags": []
   },
   "outputs": [],
   "source": [
    "dic = {}\n",
    "for strata in stratum:\n",
    "    for category in categories:\n",
    "        for category2 in categories:\n",
    "            label = strata + '_' + category + '_' + category2\n",
    "            dic[label] = 0   "
   ]
  },
  {
   "cell_type": "markdown",
   "id": "fb763a2c-a666-4534-b93d-7da79568ca1e",
   "metadata": {},
   "source": [
    "#### Looping through the rows to make the count for each entry "
   ]
  },
  {
   "cell_type": "code",
   "execution_count": null,
   "id": "ff526f63-ee90-4072-b6a3-bc6ba0cd661b",
   "metadata": {
    "tags": []
   },
   "outputs": [],
   "source": [
    "sample_entries_all_intervals = {}\n",
    "for interval in intervals:\n",
    "    dic = {}\n",
    "    for strata in stratum:\n",
    "        for category in categories:\n",
    "            for category2 in categories:\n",
    "                label = strata + '_' + category + '_' + category2\n",
    "                dic[label] = 0   \n",
    "    \n",
    "    df2 = df[df['Interval'] == interval]\n",
    "    for i in range(len(df2)):\n",
    "        strata = columns_names[0]\n",
    "        map_label = columns_names[2]\n",
    "        ref_label = columns_names[3]\n",
    "        \n",
    "        a = df2[strata].iloc[i]\n",
    "        b = df2[map_label].iloc[i]\n",
    "        c = df2[ref_label].iloc[i]\n",
    "        \n",
    "        dic[f'{a}_{b}_{c}'] += 1\n",
    "    sample_entries_all_intervals[interval] = dic"
   ]
  },
  {
   "cell_type": "code",
   "execution_count": null,
   "id": "a0bdfc4a-a3b1-4618-a201-0911a956946c",
   "metadata": {},
   "outputs": [],
   "source": [
    "pprint(sample_entries_all_intervals)"
   ]
  },
  {
   "cell_type": "markdown",
   "id": "dbc0badb-cd15-4c33-bc95-654d2b0a8a2c",
   "metadata": {},
   "source": [
    "#### Weights calculated for each strata depending on the sampling intensity"
   ]
  },
  {
   "cell_type": "code",
   "execution_count": null,
   "id": "bcbe92cc-9cad-41f4-a219-49cebd09fddb",
   "metadata": {
    "tags": []
   },
   "outputs": [],
   "source": [
    "# in pixels\n",
    "weights = {\n",
    "           'All Absence': 1176064.92,\n",
    "           'All Presence' : 81422.60,\n",
    "           'Gain': 27678.11,\n",
    "           'Loss': 37697.48,\n",
    "           'Other': 83916.21\n",
    "}\n",
    "# in acres\n",
    "weights2 = {\n",
    "           'All Absence': 70.56,\n",
    "           'All Presence' : 4.88,\n",
    "           'Gain': 1.66,\n",
    "           'Loss': 2.26,\n",
    "           'Other': 5.03\n",
    "}"
   ]
  },
  {
   "cell_type": "markdown",
   "id": "770380a6-b81a-405b-96cf-ed895a4e6ce9",
   "metadata": {},
   "source": [
    "#### Converting the sample contingency table entries into an estimated population table"
   ]
  },
  {
   "cell_type": "markdown",
   "id": "5772f8b2-c33b-46d4-b55a-6bbaa76c1ef6",
   "metadata": {},
   "source": [
    "Using the formula #5.2 from Chapter 5 \"Application to Categorical Error Assessment with Sampling\"\n",
    "of the book \"Metrics That Make a Difference\" https://link.springer.com/book/10.1007/978-3-030-70765-1"
   ]
  },
  {
   "cell_type": "code",
   "execution_count": null,
   "id": "b9502719-8b3e-418e-8fea-ebd638575fe1",
   "metadata": {
    "tags": []
   },
   "outputs": [],
   "source": [
    "population_entries_all_intervals = {}\n",
    "for interval in intervals:   \n",
    "    dic = {}\n",
    "    for category in categories:\n",
    "        for category2 in categories:\n",
    "            label = category + '_' + category2\n",
    "            dic[label] = 0\n",
    "    \n",
    "    for entry in dic:\n",
    "        for index, key in enumerate(weights.keys()):\n",
    "            entry2 = key + '_' + entry\n",
    "            dic[entry] += weights2[key]*sample_entries_all_intervals[interval][entry2]\n",
    "    population_entries_all_intervals[interval] = dic"
   ]
  },
  {
   "cell_type": "code",
   "execution_count": null,
   "id": "f5e438fb-fa5d-4e8f-8fc1-0213b443f418",
   "metadata": {
    "tags": []
   },
   "outputs": [],
   "source": [
    "population_entries_all_intervals"
   ]
  },
  {
   "cell_type": "markdown",
   "id": "2146957e",
   "metadata": {},
   "source": [
    "#### Entries for each category combined together for all intervals"
   ]
  },
  {
   "cell_type": "code",
   "execution_count": null,
   "id": "96fe8d48-d4b7-4e9e-a0de-087e948125a0",
   "metadata": {
    "tags": []
   },
   "outputs": [],
   "source": [
    "population_entries_redefined =  {}\n",
    "for category in categories:\n",
    "    for category2 in categories:\n",
    "        label = category + '_' + category2\n",
    "        population_entries_redefined[label] = []\n",
    "\n",
    "# Iterate over each year's data\n",
    "for year_data in population_entries_all_intervals.keys():        \n",
    "    # Iterate over each category\n",
    "    for category in population_entries_redefined.keys():\n",
    "        # Extract count for the current category from the current year's data\n",
    "        count = population_entries_all_intervals[year_data].get(category, 0)\n",
    "        # Append the count to the corresponding array\n",
    "        population_entries_redefined[category].append(count)\n"
   ]
  },
  {
   "cell_type": "code",
   "execution_count": null,
   "id": "5b48ea2e-14a2-4417-9fe8-2906e10c51bb",
   "metadata": {},
   "outputs": [],
   "source": [
    "population_entries_redefined"
   ]
  },
  {
   "cell_type": "markdown",
   "id": "60333f93-c219-45e7-946a-c3a2da741e71",
   "metadata": {},
   "source": [
    "#### Calculating Commission for each category for all time intervals"
   ]
  },
  {
   "cell_type": "code",
   "execution_count": null,
   "id": "a92d34b9-6f18-4b6c-9281-147efdb6a4b8",
   "metadata": {
    "tags": []
   },
   "outputs": [],
   "source": [
    "commissions = {}\n",
    "for cat in range(number_of_categories):\n",
    "    # filter entries that have reference categories different than a given map category (commission) \n",
    "    commission_entries =  {key: value for key, value in population_entries_redefined.items() if key.startswith(f'{categories[cat]}_') and key != (f'{categories[cat]}_{categories[cat]}')}\n",
    "    commission_all_intervals = [0]*number_of_time_intervals\n",
    "    for j in range(number_of_time_intervals):\n",
    "        #print(commission_entries)\n",
    "        for entry in commission_entries:\n",
    "            #print(population_entries_all_intervals[intervals[j]][entry])\n",
    "            commission_all_intervals[j] += population_entries_all_intervals[intervals[j]][entry]\n",
    "        #print(commission_all_intervals[j], categories[cat])\n",
    "    commissions[f'{categories[cat]}_Commission'] =  commission_all_intervals"
   ]
  },
  {
   "cell_type": "markdown",
   "id": "6de085f1",
   "metadata": {},
   "source": [
    "#### Add commissions to the dictionary"
   ]
  },
  {
   "cell_type": "code",
   "execution_count": null,
   "id": "2a9dc67a",
   "metadata": {},
   "outputs": [],
   "source": [
    "population_entries_redefined.update(commissions)"
   ]
  },
  {
   "cell_type": "code",
   "execution_count": null,
   "id": "93fc52a5",
   "metadata": {},
   "outputs": [],
   "source": [
    "pprint(population_entries_redefined)"
   ]
  },
  {
   "cell_type": "markdown",
   "id": "110d820d-fa01-469c-baab-d563756f9d51",
   "metadata": {},
   "source": [
    "#### Calculating Omission for each category for all time intervals"
   ]
  },
  {
   "cell_type": "code",
   "execution_count": null,
   "id": "23041165-3ec0-48e8-9b08-343721104d20",
   "metadata": {
    "tags": []
   },
   "outputs": [],
   "source": [
    "omissions = {}\n",
    "for cat in range(number_of_categories):\n",
    "    # filter entries that have map categories different than a given reference category (omission)\n",
    "    omission_entries =  {key: value for key, value in population_entries_redefined.items() if key.endswith(f'_{categories[cat]}') and key != (f'{categories[cat]}_{categories[cat]}')}\n",
    "    omission_all_intervals = [0]*number_of_time_intervals\n",
    "    for j in range(number_of_time_intervals):\n",
    "        #print(omission_entries)\n",
    "        for entry in omission_entries:\n",
    "            #print(population_entries_all_intervals[intervals[j]][entry])\n",
    "            omission_all_intervals[j] += population_entries_all_intervals[intervals[j]][entry]\n",
    "        #print(omission_all_intervals[j], categories[cat])\n",
    "    omissions[f'{categories[cat]}_Omission'] =  omission_all_intervals"
   ]
  },
  {
   "cell_type": "markdown",
   "id": "77af44a5",
   "metadata": {},
   "source": [
    "#### Add omissions to the dictionary"
   ]
  },
  {
   "cell_type": "code",
   "execution_count": null,
   "id": "92173ab4-2383-4467-81b4-33442caf9cd2",
   "metadata": {
    "tags": []
   },
   "outputs": [],
   "source": [
    "population_entries_redefined.update(omissions)"
   ]
  },
  {
   "cell_type": "code",
   "execution_count": null,
   "id": "f68a193d",
   "metadata": {},
   "outputs": [],
   "source": [
    "pprint(population_entries_redefined)"
   ]
  },
  {
   "cell_type": "markdown",
   "id": "c6fe76b6-3318-426d-938b-25ad63fa2ef3",
   "metadata": {},
   "source": [
    "#### Rounding data in each entry to two decimals"
   ]
  },
  {
   "cell_type": "code",
   "execution_count": null,
   "id": "71e07d33-a73a-4187-b24c-bba11463d620",
   "metadata": {
    "tags": []
   },
   "outputs": [],
   "source": [
    "def convert_decimals_to_2(data):\n",
    "    if isinstance(data, dict):\n",
    "        return {key: convert_decimals_to_2(value) for key, value in data.items()}\n",
    "    elif isinstance(data, list):\n",
    "        return [convert_decimals_to_2(item) for item in data]\n",
    "    elif isinstance(data, (int, float)):\n",
    "        return round(data, 2)\n",
    "    else:\n",
    "        return data"
   ]
  },
  {
   "cell_type": "code",
   "execution_count": null,
   "id": "e285fa3b-b82b-4ba4-97aa-33db23b77342",
   "metadata": {
    "tags": []
   },
   "outputs": [],
   "source": [
    "result_dict = convert_decimals_to_2(population_entries_redefined)"
   ]
  },
  {
   "cell_type": "code",
   "execution_count": null,
   "id": "47e75007-d944-4c1e-9392-35e5c2b35d31",
   "metadata": {
    "tags": []
   },
   "outputs": [],
   "source": [
    "pprint(result_dict)"
   ]
  },
  {
   "cell_type": "markdown",
   "id": "340daf36-5a9b-4ad3-a5f6-f7e907d4d438",
   "metadata": {},
   "source": [
    "##### Exporting the table as JSON"
   ]
  },
  {
   "cell_type": "code",
   "execution_count": null,
   "id": "e40e5301-ac55-4086-bbd8-64037cf5bfe8",
   "metadata": {
    "tags": []
   },
   "outputs": [],
   "source": [
    "# Specify the file path\n",
    "json_file_path = './output_data/table2.json'\n",
    "\n",
    "# Write the data to the JSON file\n",
    "with open(json_file_path, 'w') as json_file:\n",
    "    json.dump(result_dict, json_file, indent=4)"
   ]
  },
  {
   "cell_type": "code",
   "execution_count": null,
   "id": "bd7d1079",
   "metadata": {},
   "outputs": [],
   "source": []
  }
 ],
 "metadata": {
  "kernelspec": {
   "display_name": "geospatial",
   "language": "python",
   "name": "python3"
  },
  "language_info": {
   "codemirror_mode": {
    "name": "ipython",
    "version": 3
   },
   "file_extension": ".py",
   "mimetype": "text/x-python",
   "name": "python",
   "nbconvert_exporter": "python",
   "pygments_lexer": "ipython3",
   "version": "3.13.1"
  }
 },
 "nbformat": 4,
 "nbformat_minor": 5
}
